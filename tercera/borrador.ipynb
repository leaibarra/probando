{
 "cells": [
  {
   "cell_type": "code",
   "execution_count": null,
   "metadata": {},
   "outputs": [],
   "source": [
    "def ordenarDiccionario(diccionario_par, clave, descendente=True):\n",
    "    if type(diccionario_par) != 'dict':\n",
    "        return None\n",
    "    print \n",
    "    "
   ]
  },
  {
   "cell_type": "code",
   "execution_count": 6,
   "metadata": {},
   "outputs": [
    {
     "name": "stdout",
     "output_type": "stream",
     "text": [
      "<class 'dict'>\n"
     ]
    }
   ],
   "source": [
    "print(type(dica))"
   ]
  },
  {
   "cell_type": "code",
   "execution_count": 5,
   "metadata": {},
   "outputs": [],
   "source": [
    "dica = {'clave1':['c','a','b'],\n",
    "                'clave2':['casa','auto','barco'],\n",
    "                'clave3':[1,2,3]}\n"
   ]
  },
  {
   "cell_type": "code",
   "execution_count": 8,
   "metadata": {},
   "outputs": [
    {
     "name": "stdout",
     "output_type": "stream",
     "text": [
      "dict_keys(['clave1', 'clave2', 'clave3'])\n"
     ]
    }
   ],
   "source": [
    "print (dica.keys())"
   ]
  },
  {
   "cell_type": "code",
   "execution_count": 10,
   "metadata": {},
   "outputs": [
    {
     "name": "stdout",
     "output_type": "stream",
     "text": [
      "clave1\n",
      "clave2\n",
      "clave3\n"
     ]
    }
   ],
   "source": [
    "for i in dica:\n",
    "    print(i)"
   ]
  },
  {
   "attachments": {},
   "cell_type": "markdown",
   "metadata": {},
   "source": [
    "LISTA ETEROSSSSSSSSSSSSSSSSSSSSSSSSSSSSSSSSSSS"
   ]
  },
  {
   "cell_type": "code",
   "execution_count": 30,
   "metadata": {},
   "outputs": [],
   "source": [
    "def listaEnteros(inicio, tamanio):\n",
    "    lista = []\n",
    "    num = 0\n",
    "    while (num < tamanio):\n",
    "        lista.append(inicio)\n",
    "    \n",
    "        num +=1\n",
    "        inicio +=1\n",
    "    return lista\n",
    "        \n",
    "    "
   ]
  },
  {
   "cell_type": "code",
   "execution_count": 28,
   "metadata": {},
   "outputs": [
    {
     "name": "stdout",
     "output_type": "stream",
     "text": [
      "10\n",
      "11\n",
      "12\n",
      "13\n",
      "14\n"
     ]
    }
   ],
   "source": [
    "listaEnteros(10,5)"
   ]
  },
  {
   "attachments": {},
   "cell_type": "markdown",
   "metadata": {},
   "source": [
    "DIVIDIR DOS NUMEROSSSSSSSSSSS"
   ]
  },
  {
   "cell_type": "code",
   "execution_count": 41,
   "metadata": {},
   "outputs": [],
   "source": [
    "def dividirDosNumeros(dividendo, divisor):\n",
    "    lis = []\n",
    "    lis.append(dividendo//divisor)\n",
    "    lis.append(dividendo%divisor)\n",
    "\n",
    "    return lis\n"
   ]
  },
  {
   "cell_type": "code",
   "execution_count": 43,
   "metadata": {},
   "outputs": [
    {
     "data": {
      "text/plain": [
       "[5, 2]"
      ]
     },
     "execution_count": 43,
     "metadata": {},
     "output_type": "execute_result"
    }
   ],
   "source": [
    "dividirDosNumeros(17,3)\n"
   ]
  },
  {
   "attachments": {},
   "cell_type": "markdown",
   "metadata": {},
   "source": [
    "EXPONENTEEEEEEEEEEEEEEEEEEEEEEEEEEEEEEEEEEEEE"
   ]
  },
  {
   "cell_type": "code",
   "execution_count": 44,
   "metadata": {},
   "outputs": [],
   "source": [
    "def exponente(numero, exponente):\n",
    "    return numero**exponente"
   ]
  },
  {
   "cell_type": "code",
   "execution_count": 47,
   "metadata": {},
   "outputs": [
    {
     "data": {
      "text/plain": [
       "1"
      ]
     },
     "execution_count": 47,
     "metadata": {},
     "output_type": "execute_result"
    }
   ],
   "source": [
    "exponente(3,0)"
   ]
  },
  {
   "attachments": {},
   "cell_type": "markdown",
   "metadata": {},
   "source": [
    "LISTA PRIMOSSSSSSSSSSSSSSSSSSSSSSSSSSSSSSSSSSSSSSSSSSSSSSS"
   ]
  },
  {
   "cell_type": "code",
   "execution_count": 127,
   "metadata": {},
   "outputs": [],
   "source": [
    "def listaPrimos(desde, hasta):\n",
    "        if type(desde) != int:\n",
    "            return None\n",
    "        if type (hasta) != int:\n",
    "            return None\n",
    "        \n",
    "        if desde > hasta:\n",
    "             if hasta > 0:\n",
    "                  if desde > 0:\n",
    "                       lisprimo = []\n",
    "                       return lisprimo\n",
    "                  \n",
    "        lisa = []\n",
    "        for p in range (desde, hasta+1):\n",
    "             \n",
    "             \n",
    "            primo = True\n",
    "            for d in range (2, p):\n",
    "                if (p % d == 0):\n",
    "                     primo = False\n",
    "            if primo:\n",
    "                 lisa.append(p)\n",
    "        return lisa\n",
    "    \n",
    "       # return None\n",
    "    \n",
    "\n",
    "    \n",
    "    #for i in range (desde, hasta+1):\n",
    "         "
   ]
  },
  {
   "cell_type": "code",
   "execution_count": 135,
   "metadata": {},
   "outputs": [
    {
     "data": {
      "text/plain": [
       "[67, 71, 73]"
      ]
     },
     "execution_count": 135,
     "metadata": {},
     "output_type": "execute_result"
    }
   ],
   "source": [
    "listaPrimos(66,77)"
   ]
  },
  {
   "attachments": {},
   "cell_type": "markdown",
   "metadata": {},
   "source": [
    "LISTA REPETIDOSSSSSSSSSSSSSSSSSSSSSSSSSSSSSSSSSSSS"
   ]
  },
  {
   "cell_type": "code",
   "execution_count": 164,
   "metadata": {},
   "outputs": [],
   "source": [
    "def listaRepetidos(lista):\n",
    "    if type(lista) != list:\n",
    "        return None\n",
    "\n",
    "    lisnum = []\n",
    "    lisrep = []\n",
    "    for i in lista:\n",
    "        if not i in lisnum:\n",
    "            lisnum.append(i)\n",
    "            lisrep.append(+1)\n",
    "        else:\n",
    "            posi = lisnum.index(i)\n",
    "            lisrep[posi] += 1\n",
    "    solucion = zip (lisnum, lisrep)\n",
    "    return list(solucion)\n",
    "\n",
    "\n",
    "\n",
    "\n",
    "        \n",
    "         "
   ]
  },
  {
   "cell_type": "code",
   "execution_count": 159,
   "metadata": {},
   "outputs": [
    {
     "data": {
      "text/plain": [
       "3"
      ]
     },
     "execution_count": 159,
     "metadata": {},
     "output_type": "execute_result"
    }
   ],
   "source": [
    "lea = [1,2,2,4]\n",
    "lea.index(4)"
   ]
  },
  {
   "cell_type": "code",
   "execution_count": 166,
   "metadata": {},
   "outputs": [
    {
     "data": {
      "text/plain": [
       "[('hola', 2), ('mundo', 1), (13, 1), (14, 1)]"
      ]
     },
     "execution_count": 166,
     "metadata": {},
     "output_type": "execute_result"
    }
   ],
   "source": [
    "listaRepetidos([])"
   ]
  },
  {
   "cell_type": "code",
   "execution_count": null,
   "metadata": {},
   "outputs": [],
   "source": []
  },
  {
   "attachments": {},
   "cell_type": "markdown",
   "metadata": {},
   "source": [
    "CLASE ANIMALLLLLLLLLLLLLLLLLLLLLLLLLLLLLLLLLL"
   ]
  },
  {
   "cell_type": "code",
   "execution_count": null,
   "metadata": {},
   "outputs": [],
   "source": [
    "def claseAnimal(especie, color):\n",
    "    "
   ]
  },
  {
   "cell_type": "code",
   "execution_count": null,
   "metadata": {},
   "outputs": [],
   "source": []
  },
  {
   "cell_type": "code",
   "execution_count": null,
   "metadata": {},
   "outputs": [],
   "source": []
  },
  {
   "cell_type": "code",
   "execution_count": null,
   "metadata": {},
   "outputs": [],
   "source": []
  },
  {
   "cell_type": "code",
   "execution_count": null,
   "metadata": {},
   "outputs": [],
   "source": []
  }
 ],
 "metadata": {
  "kernelspec": {
   "display_name": "Python 3",
   "language": "python",
   "name": "python3"
  },
  "language_info": {
   "codemirror_mode": {
    "name": "ipython",
    "version": 3
   },
   "file_extension": ".py",
   "mimetype": "text/x-python",
   "name": "python",
   "nbconvert_exporter": "python",
   "pygments_lexer": "ipython3",
   "version": "3.11.2"
  },
  "orig_nbformat": 4
 },
 "nbformat": 4,
 "nbformat_minor": 2
}
